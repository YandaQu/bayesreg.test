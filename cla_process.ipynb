{
 "cells": [
  {
   "cell_type": "code",
   "execution_count": 1,
   "metadata": {},
   "outputs": [],
   "source": [
    "import pandas as pd\n",
    "import numpy as np\n",
    "import os"
   ]
  },
  {
   "cell_type": "code",
   "execution_count": 2,
   "metadata": {},
   "outputs": [
    {
     "name": "stdout",
     "output_type": "stream",
     "text": [
      "14\n"
     ]
    },
    {
     "data": {
      "text/plain": [
       "['../Classification/Adult Income/adult.csv',\n",
       " '../Classification/Audit data/trial.csv',\n",
       " '../Classification/bank-additional/bank_marketing.csv',\n",
       " '../Classification/Cervical cancer (Risk Factors) Data Set/risk_factors_cervical_cancer.csv',\n",
       " '../Classification/Chronic_Kidney_Disease/kidney_disease.csv',\n",
       " '../Classification/dataset_diabetes/diabetic_data.csv',\n",
       " '../Classification/Default of Credit Card Clients/UCI_Credit_Card.csv',\n",
       " '../Classification/Diabetic Retinopathy Debrecen Data Set_/Diabetic Retinopathy Debrecen.csv',\n",
       " '../Classification/Fertility/fertility.csv',\n",
       " '../Classification/Heart Dataset/Statlog_heart.csv',\n",
       " '../Classification/Indian Liver/indian_liver_patient.csv',\n",
       " '../Classification/LSVT_voice_rehabilitation/LSVT_voice_rehabilitation.csv',\n",
       " '../Classification/Occupancy/data.csv',\n",
       " '../Classification/Wine Quality/wine.csv']"
      ]
     },
     "execution_count": 2,
     "metadata": {},
     "output_type": "execute_result"
    }
   ],
   "source": [
    "csv_files = []\n",
    "dire = '../Classification/'\n",
    "for root, folders, files in os.walk(dire):\n",
    "    for file in files:\n",
    "        if '.csv' in file and '_ok.csv' not in file:\n",
    "            csv_files.append(root+'/'+file)\n",
    "print(len(csv_files))\n",
    "csv_files"
   ]
  },
  {
   "cell_type": "code",
   "execution_count": 3,
   "metadata": {},
   "outputs": [],
   "source": [
    "dfs = []\n",
    "for file_address in csv_files:\n",
    "    df = pd.read_csv(file_address)\n",
    "    df = df.replace(' ','').replace('?',np.NaN)\n",
    "    df = df.dropna()\n",
    "    dfs.append(df)\n",
    "\n",
    "for i in range(len(csv_files)):\n",
    "    current_loc = csv_files[i].replace('.csv','_ok.csv')\n",
    "    current_df = dfs[i]\n",
    "    current_df.to_csv(current_loc, index=False)"
   ]
  },
  {
   "cell_type": "code",
   "execution_count": 4,
   "metadata": {},
   "outputs": [],
   "source": [
    "dfs_ok = []\n",
    "for root, folders, files in os.walk(dire):\n",
    "    for file in files:\n",
    "        if '_ok.csv' in file:\n",
    "            dfs_ok.append(pd.read_csv(root+'/'+file))"
   ]
  },
  {
   "cell_type": "code",
   "execution_count": 5,
   "metadata": {},
   "outputs": [],
   "source": [
    "dfs_processed = []\n",
    "for df in dfs_ok:\n",
    "    df_y = df.iloc[:,-1]\n",
    "    df_y_name = df_y.name\n",
    "    df_y = pd.get_dummies(df_y, columns=df_y_name, drop_first=True).add_prefix(df_y_name+'_')\n",
    "    df_X = df.drop(df_y_name, axis=1)\n",
    "    \n",
    "    df_text = df_X.select_dtypes(include='object')\n",
    "    if df_text.shape[-1] != 0:\n",
    "        df_text = pd.get_dummies(df_text, columns= list(df_text.columns), drop_first=True)\n",
    "    \n",
    "    df_num = df_X.select_dtypes(exclude='object')\n",
    "    dfs_processed.append(pd.concat([df_num, df_text, df_y], axis=1, sort=False))"
   ]
  },
  {
   "cell_type": "code",
   "execution_count": 9,
   "metadata": {},
   "outputs": [],
   "source": [
    "for i in range(len(csv_files)):\n",
    "    current_loc = csv_files[i].replace('.csv','_processed.csv')\n",
    "    current_df = dfs_processed[i]\n",
    "    current_df.to_csv(current_loc, index=False)"
   ]
  },
  {
   "cell_type": "code",
   "execution_count": null,
   "metadata": {},
   "outputs": [],
   "source": []
  }
 ],
 "metadata": {
  "kernelspec": {
   "display_name": "Python 3",
   "language": "python",
   "name": "python3"
  },
  "language_info": {
   "codemirror_mode": {
    "name": "ipython",
    "version": 3
   },
   "file_extension": ".py",
   "mimetype": "text/x-python",
   "name": "python",
   "nbconvert_exporter": "python",
   "pygments_lexer": "ipython3",
   "version": "3.7.0"
  }
 },
 "nbformat": 4,
 "nbformat_minor": 2
}
